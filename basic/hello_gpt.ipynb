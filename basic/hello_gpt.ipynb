{
 "cells": [
  {
   "cell_type": "markdown",
   "metadata": {},
   "source": [
    "# Basic GPT 3.5 Turbo API call"
   ]
  },
  {
   "cell_type": "code",
   "execution_count": 5,
   "metadata": {},
   "outputs": [],
   "source": [
    "import openai\n",
    "from environs import Env\n",
    "\n",
    "env = Env()\n",
    "\n",
    "with env.prefixed(\"AZURE_\"):\n",
    "    openai.api_key = env(\"OPENAI_API_KEY\")\n",
    "    openai.api_type = env(\"OPENAI_API_TYPE\", \"open_ai\")\n",
    "    openai.api_base = env(\"OPENAI_API_BASE\", \"https://api.openai.com/v1\")\n",
    "    openai.api_version = env(\"OPENAI_API_VERSION\", None)"
   ]
  },
  {
   "cell_type": "code",
   "execution_count": 6,
   "metadata": {},
   "outputs": [
    {
     "name": "stdout",
     "output_type": "stream",
     "text": [
      "Azure Cognitive Services is a cloud-based collection of REST APIs and SDKs that developers can use to easily add intelligent features to their applications. These services provide powerful capabilities for tasks such as speech recognition, natural language processing, computer vision, and more. By using these services, developers can enable their applications to understand and interpret human language, detect and analyze images, recognize faces, and even make recommendations based on user preferences. Azure Cognitive Services abstracts away the complexity of building and training machine learning models, allowing developers to leverage pre-trained models and integrate these intelligent capabilities into their applications with just a few lines of code.\n"
     ]
    }
   ],
   "source": [
    "engine = \"gpt-35-turbo-16k\"\n",
    "\n",
    "question = \"What are Azure Cognitive services?\"\n",
    "\n",
    "response = openai.ChatCompletion.create(\n",
    "    engine=engine,\n",
    "    messages=[\n",
    "        {\"role\": \"system\", \"content\": \"You are a helpful AI assistant.\"},\n",
    "        {\"role\": \"user\", \"content\": question},\n",
    "    ],\n",
    ")\n",
    "\n",
    "print(response[\"choices\"][0][\"message\"][\"content\"])"
   ]
  },
  {
   "cell_type": "code",
   "execution_count": null,
   "metadata": {},
   "outputs": [],
   "source": []
  }
 ],
 "metadata": {
  "kernelspec": {
   "display_name": "Python 3",
   "language": "python",
   "name": "python3"
  },
  "language_info": {
   "codemirror_mode": {
    "name": "ipython",
    "version": 3
   },
   "file_extension": ".py",
   "mimetype": "text/x-python",
   "name": "python",
   "nbconvert_exporter": "python",
   "pygments_lexer": "ipython3",
   "version": "3.10.8"
  }
 },
 "nbformat": 4,
 "nbformat_minor": 2
}
